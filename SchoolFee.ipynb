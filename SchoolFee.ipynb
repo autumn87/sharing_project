{
 "cells": [
  {
   "cell_type": "markdown",
   "id": "5793bee4",
   "metadata": {},
   "source": [
    "# Prediction Fee Charges"
   ]
  },
  {
   "cell_type": "markdown",
   "id": "3c1411e6",
   "metadata": {},
   "source": [
    "## Problem statement\n",
    "Payment charges is a fee that parents required to pay, for the school to run academic activities to support students' achievement. Each parents has different rate to pay based on their income classifications. These payment rate can be improved if a system could effectively devised to predict and  categorize the payment that each income classifications need to pay."
   ]
  },
  {
   "cell_type": "markdown",
   "id": "246acfc2",
   "metadata": {},
   "source": [
    "## Technologies \n",
    "* Python\n",
    "Bascially the programming language that will be used for this project is Python. It has packages such as Numpy, Pandas and etc that suitable for scientific computing in implementing the project.\n",
    "\n",
    "* Pandas\n"
   ]
  },
  {
   "cell_type": "markdown",
   "id": "7a99c472",
   "metadata": {},
   "source": [
    "# Dataset\n",
    "* Source of data - Choosing the data set for the project is crucial. Therefore, school's data of students registered in MRSM will be use for the project. It is available and accessible.\n",
    "* Data Collection Methodology and ethical appropriateness - Collecting data for the project from all relevant sources helps find answers to solve research problem. A primary data that contains gender, form, number of dependents, self employed, income classifications and fee charges will be used throughout the project.\n"
   ]
  },
  {
   "cell_type": "markdown",
   "id": "a95b236b",
   "metadata": {},
   "source": [
    "## Data preprocessing and preparation\n",
    "* Description of preprocessing and preparation steps with appropriate justification.\n"
   ]
  },
  {
   "cell_type": "markdown",
   "id": "f017cd96",
   "metadata": {},
   "source": [
    "## Proposed solution\n",
    "* AI workflow AI models\n",
    "* AI tools and model deployment method used in the solution as well as its limitations and future improvements"
   ]
  },
  {
   "cell_type": "markdown",
   "id": "8be9144f",
   "metadata": {},
   "source": [
    "## Conclusion: \n",
    "* The strength and positive impact of the proposed AI project idea towards company, industry or the society."
   ]
  }
 ],
 "metadata": {
  "kernelspec": {
   "display_name": "Python 3",
   "language": "python",
   "name": "python3"
  },
  "language_info": {
   "codemirror_mode": {
    "name": "ipython",
    "version": 3
   },
   "file_extension": ".py",
   "mimetype": "text/x-python",
   "name": "python",
   "nbconvert_exporter": "python",
   "pygments_lexer": "ipython3",
   "version": "3.8.8"
  }
 },
 "nbformat": 4,
 "nbformat_minor": 5
}
