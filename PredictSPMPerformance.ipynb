{
 "cells": [
  {
   "cell_type": "markdown",
   "id": "dc46328b",
   "metadata": {},
   "source": [
    "# Prediction Analysis of SPM Performance"
   ]
  },
  {
   "cell_type": "markdown",
   "id": "ca4a4230",
   "metadata": {},
   "source": [
    "## Problem Statement: \n"
   ]
  },
  {
   "cell_type": "markdown",
   "id": "cb3f8ed4",
   "metadata": {},
   "source": [
    "Many teachers are interested to know the future situation with students' academic performance in SPM. Sometimes their performance reaches high or low for each year. Their performance can be improved and achieve peak performance if a system could effectively help provides insight and supportive information that can guide teachers in the areas of concern of future direction in quality teaching and guidance in support to students' academic performance. This project aims at predicting students' performance in SPM by using data from semester's examinations result. We will see if "
   ]
  },
  {
   "cell_type": "code",
   "execution_count": null,
   "id": "d952a08c",
   "metadata": {},
   "outputs": [],
   "source": []
  }
 ],
 "metadata": {
  "kernelspec": {
   "display_name": "Python 3",
   "language": "python",
   "name": "python3"
  },
  "language_info": {
   "codemirror_mode": {
    "name": "ipython",
    "version": 3
   },
   "file_extension": ".py",
   "mimetype": "text/x-python",
   "name": "python",
   "nbconvert_exporter": "python",
   "pygments_lexer": "ipython3",
   "version": "3.8.8"
  }
 },
 "nbformat": 4,
 "nbformat_minor": 5
}
